{
 "cells": [
  {
   "cell_type": "code",
   "execution_count": 1,
   "metadata": {},
   "outputs": [
    {
     "ename": "",
     "evalue": "",
     "output_type": "error",
     "traceback": [
      "\u001b[1;31mCanceled future for execute_request message before replies were done"
     ]
    },
    {
     "ename": "",
     "evalue": "",
     "output_type": "error",
     "traceback": [
      "\u001b[1;31mThe Kernel crashed while executing code in the the current cell or a previous cell. Please review the code in the cell(s) to identify a possible cause of the failure. Click <a href='https://aka.ms/vscodeJupyterKernelCrash'>here</a> for more info. View Jupyter <a href='command:jupyter.viewOutput'>log</a> for further details."
     ]
    }
   ],
   "source": [
    "import pandas as pd\n",
    "\n",
    "listOfCourses = [\"MATH101\", \"ENGL101\", \"PE  101\", \"ICS 104\", \"PHYS101\", \"IAS 121\", \"MATH102\", \"ENGL102\", \"ICS 108\", \"PHYS102\", \"IAS 111\", \"MATH201\", \"ISE 291\", \"SWE 206\", \"ICS 202\", \"CHEM101\", \"MATH208\", \"COE 292\", \"SWE 216\", \"ICS 253\", \"COE 233\", \"IAS 212\", \"STAT319\", \"SWE 316\", \"ICS 321\", \"ICS 343\", \"SWE 387\", \"SWE 363\", \"ENGL214\", \"SWE 326\", \"ICS 344\", \"CGS 392\", \"BUS 200\", \"SWE 399\", \"SWE 439\", \"SWE 411\", \"SWE 412\", \"ICS 433\"]\n",
    "\n",
    "\n",
    "df = pd.read_csv('D:/KFUPM/221/ICS 108/ICS 108 coding part/Project/ICS-108-Project-term-221/ICS-108-Project-term-221/CourseOfferingTerm222.csv', delimiter = ',')\n",
    "\n",
    "found = False\n",
    "columnLength = len(df.index)\n",
    "\n",
    "\n",
    "for i in range(columnLength):\n",
    "    found = False\n",
    "    x = df.loc[i,\"Course-Sec\"].split(\"-\")\n",
    "    found = x[0] not in listOfCourses\n",
    "    if (found):\n",
    "        df.drop(index=i,inplace=True)\n",
    "\n",
    "\n",
    "\n",
    "\n",
    "\n",
    "# df.reset_index(drop=True,inplace=True)\n",
    "# df.drop(inplace=True)\n",
    "# df.to_csv(\"CourseOfferingNew\")\n",
    "\n",
    "df.columns.values[1] = \"index\"\n",
    "\n",
    "display(df)"
   ]
  },
  {
   "cell_type": "code",
   "execution_count": null,
   "metadata": {},
   "outputs": [],
   "source": []
  },
  {
   "cell_type": "code",
   "execution_count": null,
   "metadata": {},
   "outputs": [],
   "source": []
  },
  {
   "cell_type": "code",
   "execution_count": null,
   "metadata": {},
   "outputs": [],
   "source": []
  },
  {
   "cell_type": "code",
   "execution_count": null,
   "metadata": {},
   "outputs": [],
   "source": []
  },
  {
   "cell_type": "code",
   "execution_count": null,
   "metadata": {},
   "outputs": [],
   "source": []
  },
  {
   "cell_type": "code",
   "execution_count": null,
   "metadata": {},
   "outputs": [],
   "source": []
  },
  {
   "cell_type": "code",
   "execution_count": null,
   "metadata": {},
   "outputs": [],
   "source": []
  },
  {
   "cell_type": "code",
   "execution_count": null,
   "metadata": {},
   "outputs": [],
   "source": []
  }
 ],
 "metadata": {
  "kernelspec": {
   "display_name": "Python 3.9.13 ('base')",
   "language": "python",
   "name": "python3"
  },
  "language_info": {
   "codemirror_mode": {
    "name": "ipython",
    "version": 3
   },
   "file_extension": ".py",
   "mimetype": "text/x-python",
   "name": "python",
   "nbconvert_exporter": "python",
   "pygments_lexer": "ipython3",
   "version": "3.9.13"
  },
  "orig_nbformat": 4,
  "vscode": {
   "interpreter": {
    "hash": "77705b024bbeabd50537faa584f42879de3476a87e25b57f0c50228bac8986ea"
   }
  }
 },
 "nbformat": 4,
 "nbformat_minor": 2
}
